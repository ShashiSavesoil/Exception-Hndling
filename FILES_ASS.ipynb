{
  "nbformat": 4,
  "nbformat_minor": 0,
  "metadata": {
    "colab": {
      "provenance": []
    },
    "kernelspec": {
      "name": "python3",
      "display_name": "Python 3"
    },
    "language_info": {
      "name": "python"
    }
  },
  "cells": [
    {
      "cell_type": "markdown",
      "source": [
        "Files, exceptional handling, logging and\n",
        "memory management Questions **bold text**"
      ],
      "metadata": {
        "id": "vHj-mvxO-e4b"
      }
    },
    {
      "cell_type": "markdown",
      "source": [
        "1. What is the difference between interpreted and compiled languages\n",
        "- Compilied language is entire code is translated (binary) before excution using compiler.\n",
        "- Interpreted language where code is excuted  line by line by an interpreter at run time.\n",
        "\n",
        "2.  What is exception handling in Python\n",
        "- An exception is an error that happens during the program excution , stopping it from further running.\n",
        "-Python uses try-except to handle exceptions and prevent the program from crashing.\n",
        "\n",
        "3. What is the purpose of the finally block in exception handling\n",
        "-  The finally block always runs, no matter what happens in the try and except blocks.\n",
        "\n",
        "It is used to release resources (like closing files, database connections, etc.).\n",
        "\n",
        "4. What is logging in Python\n",
        "- Logging in Python is like keeping a diary for your program—it records important events, errors, and messages while your program runs.\n",
        "- Debugging – Helps track errors and understand what went wrong.\n",
        "\n"
      ],
      "metadata": {
        "id": "9heO5lr9-gl0"
      }
    },
    {
      "cell_type": "code",
      "source": [
        "import logging"
      ],
      "metadata": {
        "id": "zMOHqvCYFj95"
      },
      "execution_count": 1,
      "outputs": []
    },
    {
      "cell_type": "code",
      "source": [
        "logging.basicConfig(filename=\"program.log\",level=logging.DEBUG,\n",
        "                    format=\"%(asctime)s - %(levelname)s - %(message)s\")"
      ],
      "metadata": {
        "id": "RxBnFjSgFmfW"
      },
      "execution_count": 2,
      "outputs": []
    },
    {
      "cell_type": "code",
      "source": [
        "def divide_by_number():\n",
        "  try:\n",
        "    num=int(input(\"Enter a number: \"))\n",
        "    result=100/num\n",
        "    print(f\"100 divided by {num} is {result}\")\n",
        "    logging.info(f\"Successful division: 100/{num} = {result}\")\n",
        "  except ZeroDivisionError as e:\n",
        "    print(\"Error: Cannot divide by zero!\")\n",
        "    logging.error(\"Attempted to divide by zero!\")\n",
        "  except ValueError as e:\n",
        "    print(\"Error: please enter a valid number!\")\n",
        "    logging.warning(\"user entered a invalid input (not a number)\")\n",
        "\n",
        "  finally :\n",
        "    print(\"Operation complete. Check program.log for detials\")\n",
        "    logging.debug(\"Program excution completed.\")\n",
        ""
      ],
      "metadata": {
        "id": "JAeqExeCGKaR"
      },
      "execution_count": 3,
      "outputs": []
    },
    {
      "cell_type": "code",
      "source": [
        "divide_by_number()"
      ],
      "metadata": {
        "colab": {
          "base_uri": "https://localhost:8080/"
        },
        "id": "RlOWMSgSI8jR",
        "outputId": "9a8e1ad0-96d0-48a6-c683-bb2db5a5f9d1"
      },
      "execution_count": 4,
      "outputs": [
        {
          "name": "stdout",
          "output_type": "stream",
          "text": [
            "Enter a number: 0\n"
          ]
        },
        {
          "output_type": "stream",
          "name": "stderr",
          "text": [
            "ERROR:root:Attempted to divide by zero!\n"
          ]
        },
        {
          "output_type": "stream",
          "name": "stdout",
          "text": [
            "Error: Cannot divide by zero!\n",
            "Operation complete. Check program.log for detials\n"
          ]
        }
      ]
    },
    {
      "cell_type": "code",
      "source": [
        "from google.colab import files\n",
        "files.download(\"program.log\")"
      ],
      "metadata": {
        "id": "g6KKPlPaLFQo"
      },
      "execution_count": null,
      "outputs": []
    },
    {
      "cell_type": "code",
      "source": [
        "with open(\"program.log\",\"r\") as file:\n",
        "  print(file.read())"
      ],
      "metadata": {
        "colab": {
          "base_uri": "https://localhost:8080/",
          "height": 162
        },
        "id": "OU81ztjPLQlX",
        "outputId": "c86d94c4-e4ff-4668-adaf-dd4200393345"
      },
      "execution_count": 6,
      "outputs": [
        {
          "output_type": "error",
          "ename": "FileNotFoundError",
          "evalue": "[Errno 2] No such file or directory: 'program.log'",
          "traceback": [
            "\u001b[0;31m---------------------------------------------------------------------------\u001b[0m",
            "\u001b[0;31mFileNotFoundError\u001b[0m                         Traceback (most recent call last)",
            "\u001b[0;32m<ipython-input-6-6e2c84f88b71>\u001b[0m in \u001b[0;36m<cell line: 0>\u001b[0;34m()\u001b[0m\n\u001b[0;32m----> 1\u001b[0;31m \u001b[0;32mwith\u001b[0m \u001b[0mopen\u001b[0m\u001b[0;34m(\u001b[0m\u001b[0;34m\"program.log\"\u001b[0m\u001b[0;34m,\u001b[0m\u001b[0;34m\"r\"\u001b[0m\u001b[0;34m)\u001b[0m \u001b[0;32mas\u001b[0m \u001b[0mfile\u001b[0m\u001b[0;34m:\u001b[0m\u001b[0;34m\u001b[0m\u001b[0;34m\u001b[0m\u001b[0m\n\u001b[0m\u001b[1;32m      2\u001b[0m   \u001b[0mprint\u001b[0m\u001b[0;34m(\u001b[0m\u001b[0mfile\u001b[0m\u001b[0;34m.\u001b[0m\u001b[0mread\u001b[0m\u001b[0;34m(\u001b[0m\u001b[0;34m)\u001b[0m\u001b[0;34m)\u001b[0m\u001b[0;34m\u001b[0m\u001b[0;34m\u001b[0m\u001b[0m\n",
            "\u001b[0;31mFileNotFoundError\u001b[0m: [Errno 2] No such file or directory: 'program.log'"
          ]
        }
      ]
    },
    {
      "cell_type": "markdown",
      "source": [
        "5. What is the significance of the __del__ method in Python\n",
        "- in Python, objects take up memory, and when they are no longer needed, Python must clean them up. This cleanup is done using the __del__ method.\n",
        "- The __del__ method is called automatically when an object is deleted or goes out of scope.\n",
        "- It is also called the destructor because it frees up resources (like closing a file or database connection.\n",
        "\n",
        "6. What is the difference between import and from ... import in Python\n",
        "- import brings whole module\n",
        "-from ... import (Brings Specific Functions)\n",
        "\n",
        "7. How can you handle multiple exceptions in Python\n",
        "- Handles different errors separately.\n",
        "- Gives specific messages for each error.\n",
        "\n",
        "8.  What is the purpose of the with statement when handling files in Python\n",
        "- when handling files in Python, you must:\n",
        " Open the file → Perform operations → Close the file\n",
        "\n",
        "   If you forget to close it, it stays open in memory, causing issues. That’s where the with statement helps!\n",
        " # with open(\"example.txt\",\"r\") as file\n",
        "  Automatically closes the file after execution.\n",
        "  Even if an error occurs, Python ensures the file is closed!\n",
        "\n",
        "9. What is the difference between multithreading and multiprocessing\n",
        "- Multithreading allows multiple tasks (threads) to run within the same program using a single CPU core.\n",
        "- Multiprocessing runs multiple processes on different CPU cores, achieving true parallelism.\n",
        "\n",
        "10. What are the advantages of using logging in a program0\n",
        "-In Python programming, logging helps track errors, debug issues, and monitor performance\n",
        "\n",
        "11. What is memory management in Python\n",
        "- Python, memory management ensures that the program uses memory efficiently by allocating, tracking, and freeing memory when no longer needed\n",
        "\n",
        "12. What are the basic steps involved in exception handling in Python\n",
        "- Python, exception handling ensures that the program doesn’t crash when an error\n",
        "- try , except, finally\n",
        "-1️⃣ Try → Write the code that may cause an error inside a try block.\n",
        "-2️⃣ Except → Catch and handle the error in the except block.\n",
        "-3️⃣ Else → (Optional) Executes if no errors occur.\n",
        "-4️⃣ Finally → (Optional) Executes always, whether an error occurs or not.\n",
        "\n",
        "13. Why is memory management important in Python\n",
        "- Prevents memory leaks (avoids unnecessary memory usage).\n",
        "- Improves program performance (keeps it fast and responsive).\n",
        "- Manages large data efficiently (avoids running out of memory).\n",
        "- Prevents crashes in long-running applications (ensures stability).\n",
        "\n",
        "14. What is the role of try and except in exception handling\n",
        "- Try → Write the code that may cause an error inside a try block\n",
        "- Except → Catch and handle the error in the except block.\n",
        "\n",
        "15. How does Python's garbage collection system work\n",
        "- Python automatically manages memory using:\n",
        "- Reference Counting → Tracks how many variables refer to an object.\n",
        "- Garbage Collector (GC) → Removes objects with zero references.\n",
        "- Cyclic Garbage Collection → Handles objects that reference each other (circular references).\n",
        "\n",
        "17. What are the common logging levels in Python0\n",
        "- DEBUG → While testing/debugging your program.\n",
        "- INFO → To track normal events in production.\n",
        "- WARNING → To notify about potential issues.\n",
        "- ERROR → When a function fails but the program can continue.\n",
        "- CRITICAL → When the entire system fails and must stop.\n",
        "\n",
        "24.  How do you raise an exception manually in Python\n",
        "- Python, you can manually raise an exception when something goes wrong using raise\n",
        "# raise ValueError(\"Age cannot be negative!\")\n",
        "-Stops the program immediately if the condition is met\n",
        "\n",
        "25.  Why is it important to use multithreading in certain applications?\n",
        "-where a single process handles multiple tasks (threads) at the same time.\n",
        "-  Improves performance  Handles multiple tasks without waiting for one to finish.\n",
        "\n",
        "\n",
        "\n",
        "\n",
        "\n",
        "\n",
        "\n",
        "\n",
        "\n"
      ],
      "metadata": {
        "id": "ehtxsVslLe98"
      }
    },
    {
      "cell_type": "markdown",
      "source": [
        "Practical **Questions**"
      ],
      "metadata": {
        "id": "LBbFnRAKghZM"
      }
    },
    {
      "cell_type": "code",
      "source": [
        "#1. How can you open a file for writing in Python and write a string to it"
      ],
      "metadata": {
        "id": "O7wMNMFpgjx0"
      },
      "execution_count": null,
      "outputs": []
    },
    {
      "cell_type": "code",
      "source": [
        "with open(\"example.txt\", \"w\") as file:\n",
        "  file.write(\"SaveSoil\")\n",
        "\n"
      ],
      "metadata": {
        "id": "0Cxl9G4Lgn0s"
      },
      "execution_count": 13,
      "outputs": []
    },
    {
      "cell_type": "code",
      "source": [
        "with open(\"example.txt\", \"r\") as file:\n",
        "  s=file.read()"
      ],
      "metadata": {
        "id": "kn8rKLB3hFZG"
      },
      "execution_count": 14,
      "outputs": []
    },
    {
      "cell_type": "code",
      "source": [
        "s"
      ],
      "metadata": {
        "colab": {
          "base_uri": "https://localhost:8080/",
          "height": 35
        },
        "id": "zzvuXAiGg27S",
        "outputId": "b2a0ff5c-47a2-4124-97a2-b71c41e16312"
      },
      "execution_count": 15,
      "outputs": [
        {
          "output_type": "execute_result",
          "data": {
            "text/plain": [
              "'SaveSoil'"
            ],
            "application/vnd.google.colaboratory.intrinsic+json": {
              "type": "string"
            }
          },
          "metadata": {},
          "execution_count": 15
        }
      ]
    },
    {
      "cell_type": "code",
      "source": [
        "with open(\"example.txt\", \"a\") as file :\n",
        "  file.write(\" \\n Sadhguru For SaveSoil Movement let's make it happen\")"
      ],
      "metadata": {
        "id": "IXwbQ9cshVgG"
      },
      "execution_count": 20,
      "outputs": []
    },
    {
      "cell_type": "code",
      "source": [
        "with open(\"example.txt\", \"r\") as file:\n",
        "  s=file.read()"
      ],
      "metadata": {
        "id": "XucGBphVhnJh"
      },
      "execution_count": 21,
      "outputs": []
    },
    {
      "cell_type": "code",
      "source": [
        "s"
      ],
      "metadata": {
        "colab": {
          "base_uri": "https://localhost:8080/",
          "height": 35
        },
        "id": "T--JZEAQho8G",
        "outputId": "4cbef566-7a5d-448f-ace4-01f3463b8abb"
      },
      "execution_count": 23,
      "outputs": [
        {
          "output_type": "execute_result",
          "data": {
            "text/plain": [
              "\"SaveSoilSadhguru For SaveSoil Movement let's make it happen\\n Sadhguru For SaveSoil Movement let's make it happen\""
            ],
            "application/vnd.google.colaboratory.intrinsic+json": {
              "type": "string"
            }
          },
          "metadata": {},
          "execution_count": 23
        }
      ]
    },
    {
      "cell_type": "code",
      "source": [
        "#2.Write a Python program to read the contents of a file and print each line"
      ],
      "metadata": {
        "id": "MqrDg9zyiIXS"
      },
      "execution_count": null,
      "outputs": []
    },
    {
      "cell_type": "code",
      "source": [
        "with open(\"example.txt\",\"r\") as file:\n",
        "  for line in file:\n",
        "    print(line.strip())"
      ],
      "metadata": {
        "colab": {
          "base_uri": "https://localhost:8080/"
        },
        "id": "AezXN2tniM0N",
        "outputId": "9dc5bf7b-8622-429f-afd5-ea6044de15eb"
      },
      "execution_count": 27,
      "outputs": [
        {
          "output_type": "stream",
          "name": "stdout",
          "text": [
            "SaveSoilSadhguru For SaveSoil Movement let's make it happen\n",
            "Sadhguru For SaveSoil Movement let's make it happen\n"
          ]
        }
      ]
    },
    {
      "cell_type": "code",
      "source": [
        "with open(\"example.txt\",\"r\") as file:\n",
        "  for line in file:\n",
        "    print(file.readline())"
      ],
      "metadata": {
        "colab": {
          "base_uri": "https://localhost:8080/"
        },
        "id": "m0TSRL19je7N",
        "outputId": "4434b2e7-a68a-4bb4-e4c4-b017bb971dd8"
      },
      "execution_count": 29,
      "outputs": [
        {
          "output_type": "stream",
          "name": "stdout",
          "text": [
            " Sadhguru For SaveSoil Movement let's make it happen\n"
          ]
        }
      ]
    },
    {
      "cell_type": "code",
      "source": [
        "#3.  How would you handle a case where the file doesn't exist while trying to open it for reading"
      ],
      "metadata": {
        "id": "EMxjSea8j_8B"
      },
      "execution_count": null,
      "outputs": []
    },
    {
      "cell_type": "code",
      "source": [
        "try:\n",
        "  with open(\"example.txt\",\"r\") as file:\n",
        "    r=file.read()\n",
        "    print(r)\n",
        "except FileNotFoundError as e:\n",
        "  print(\"The above file is not created\",e)"
      ],
      "metadata": {
        "colab": {
          "base_uri": "https://localhost:8080/"
        },
        "id": "UU0pSw0WkUv6",
        "outputId": "436e29b4-f23c-4105-b623-11cb0720b0ec"
      },
      "execution_count": 30,
      "outputs": [
        {
          "output_type": "stream",
          "name": "stdout",
          "text": [
            "SaveSoilSadhguru For SaveSoil Movement let's make it happen\n",
            " Sadhguru For SaveSoil Movement let's make it happen\n"
          ]
        }
      ]
    },
    {
      "cell_type": "code",
      "source": [
        "#4 Write a Python script that reads from one file and writes its content to another file"
      ],
      "metadata": {
        "id": "L3eLnC6ok3bk"
      },
      "execution_count": null,
      "outputs": []
    },
    {
      "cell_type": "code",
      "source": [
        "with open(\"source.txt\",\"r\") as file_source , open(\"destination.txt\",\"w\") as file_dest:\n",
        "  for line in file_source:\n",
        "    file_dest.write(line)"
      ],
      "metadata": {
        "id": "5YfIrWMKl_y7"
      },
      "execution_count": null,
      "outputs": []
    },
    {
      "cell_type": "code",
      "source": [
        "#6.Write a Python program that logs an error message to a log file when a division by zero exception occurs"
      ],
      "metadata": {
        "id": "bQDhGL7umAdR"
      },
      "execution_count": null,
      "outputs": []
    },
    {
      "cell_type": "code",
      "source": [
        "import logging"
      ],
      "metadata": {
        "id": "R8ymDzFnmagv"
      },
      "execution_count": null,
      "outputs": []
    },
    {
      "cell_type": "code",
      "source": [
        "logging.basicConfig(fileNAME=\"error.log\",level=logging.ERROR ,\n",
        "               format= \"%(asctime)s - ERROR - %(message)s\")"
      ],
      "metadata": {
        "id": "Ue9nVGr_mde1"
      },
      "execution_count": 33,
      "outputs": []
    },
    {
      "cell_type": "code",
      "source": [
        "def divide_numbers(a,b):\n",
        "  try :\n",
        "    result=a/b\n",
        "    return result\n",
        "  except ZeroDivisionError as e:\n",
        "    logging.error(\"Attempted to divide with zero\")\n",
        "    return \"Error:Division with zero is not allowed\""
      ],
      "metadata": {
        "id": "P9SW4k4nm7aJ"
      },
      "execution_count": 34,
      "outputs": []
    },
    {
      "cell_type": "code",
      "source": [
        "divide_numbers(10,11)"
      ],
      "metadata": {
        "colab": {
          "base_uri": "https://localhost:8080/"
        },
        "id": "yINb_acinh9H",
        "outputId": "c1b7c8ac-eb23-4a8f-c4c9-6c6dba69b909"
      },
      "execution_count": 35,
      "outputs": [
        {
          "output_type": "execute_result",
          "data": {
            "text/plain": [
              "0.9090909090909091"
            ]
          },
          "metadata": {},
          "execution_count": 35
        }
      ]
    },
    {
      "cell_type": "code",
      "source": [
        "#7. How do you log information at different levels (INFO, ERROR, WARNING) in Python using the logging module"
      ],
      "metadata": {
        "id": "woKxkYsBolJt"
      },
      "execution_count": null,
      "outputs": []
    },
    {
      "cell_type": "code",
      "source": [
        "import logging\n",
        "# set up logging configuration\n",
        "logging.basiConfig(filename=\"app.log\",level=logging.DEBUG,\n",
        "                    format=\"%(asctime)s - %(levelname)s - %(message)s\")#\n",
        "\n",
        "#Logging messages at different levels\n",
        "logging.debug(\"This is a debug message.\")\n",
        "logging.info(\"This is an info message.\")\n",
        "logging.warning(\"This is a warning message.\")\n",
        "logging.error(\"This is an error message.\")\n",
        "logging.critical(\"This is a critical message.\")\n",
        "\n",
        "\n",
        "\n"
      ],
      "metadata": {
        "id": "sEfDXa6doqoY"
      },
      "execution_count": null,
      "outputs": []
    },
    {
      "cell_type": "code",
      "source": [
        "#8. Write a program to handle a file opening error using exception handlingF"
      ],
      "metadata": {
        "id": "jwVnIA3-pifX"
      },
      "execution_count": null,
      "outputs": []
    },
    {
      "cell_type": "code",
      "source": [
        "try:\n",
        "  with open(\"example.txt\", \"r\") as file:\n",
        "    s=file.read()\n",
        "except FileNotFoundError as e:\n",
        "      print(\"Error: The file does not exist.\")\n"
      ],
      "metadata": {
        "id": "mYzd5TnzpnOL"
      },
      "execution_count": 36,
      "outputs": []
    },
    {
      "cell_type": "code",
      "source": [
        "s"
      ],
      "metadata": {
        "colab": {
          "base_uri": "https://localhost:8080/",
          "height": 35
        },
        "id": "AOnXLfw-qGQu",
        "outputId": "ea28cb74-b126-4f1f-ec1b-614fc6213171"
      },
      "execution_count": 37,
      "outputs": [
        {
          "output_type": "execute_result",
          "data": {
            "text/plain": [
              "\"SaveSoilSadhguru For SaveSoil Movement let's make it happen\\n Sadhguru For SaveSoil Movement let's make it happen\""
            ],
            "application/vnd.google.colaboratory.intrinsic+json": {
              "type": "string"
            }
          },
          "metadata": {},
          "execution_count": 37
        }
      ]
    },
    {
      "cell_type": "code",
      "source": [
        "#9.How can you read a file line by line and store its content in a list in Python"
      ],
      "metadata": {
        "id": "5EnM1kklqIXp"
      },
      "execution_count": null,
      "outputs": []
    },
    {
      "cell_type": "code",
      "source": [
        "with open(\"example.txt\",\"r\") as file:\n",
        "    lines = file.readlines()\n",
        "    lines=[ line.strip() for line in line]"
      ],
      "metadata": {
        "id": "GLP4VlokqMlk"
      },
      "execution_count": 53,
      "outputs": []
    },
    {
      "cell_type": "code",
      "source": [
        "print(lines)"
      ],
      "metadata": {
        "colab": {
          "base_uri": "https://localhost:8080/"
        },
        "id": "vE670OAQrNi-",
        "outputId": "b3bc48ed-d411-4e4a-aa16-ebe880b0c82b"
      },
      "execution_count": 54,
      "outputs": [
        {
          "output_type": "stream",
          "name": "stdout",
          "text": [
            "['', 'S', 'a', 'd', 'h', 'g', 'u', 'r', 'u', '', 'F', 'o', 'r', '', 'S', 'a', 'v', 'e', 'S', 'o', 'i', 'l', '', 'M', 'o', 'v', 'e', 'm', 'e', 'n', 't', '', 'l', 'e', 't', \"'\", 's', '', 'm', 'a', 'k', 'e', '', 'i', 't', '', 'h', 'a', 'p', 'p', 'e', 'n']\n"
          ]
        }
      ]
    },
    {
      "cell_type": "code",
      "source": [
        "with open(\"example.txt\", \"r\") as file:\n",
        "    content = file.read()\n",
        "\n",
        "print(content)  # Check how the file content is structured\n"
      ],
      "metadata": {
        "colab": {
          "base_uri": "https://localhost:8080/"
        },
        "id": "cE3k8jRjsH9h",
        "outputId": "c61650a2-54b3-46c1-85fe-430aa9fe8de4"
      },
      "execution_count": 52,
      "outputs": [
        {
          "output_type": "stream",
          "name": "stdout",
          "text": [
            "SaveSoilSadhguru For SaveSoil Movement let's make it happen\n",
            " Sadhguru For SaveSoil Movement let's make it happen\n"
          ]
        }
      ]
    },
    {
      "cell_type": "code",
      "source": [
        "#11.Handling Missing Dictionary Keys with Try-Except"
      ],
      "metadata": {
        "id": "Qz869R8PsTvZ"
      },
      "execution_count": null,
      "outputs": []
    },
    {
      "cell_type": "code",
      "source": [
        "my_dict={\"name\":\"Shashi\",\"age\":21}\n",
        "\n",
        "try:\n",
        "  print(my_dict['city'])\n",
        "except KeyError as e:\n",
        "  print(\"key not found in dictionary\",e)"
      ],
      "metadata": {
        "colab": {
          "base_uri": "https://localhost:8080/"
        },
        "id": "W6AGiGh6sjp8",
        "outputId": "775e9f7d-4d73-49c9-d810-ad77ab802c97"
      },
      "execution_count": 58,
      "outputs": [
        {
          "output_type": "stream",
          "name": "stdout",
          "text": [
            "key not found in dictionary 'city'\n"
          ]
        }
      ]
    },
    {
      "cell_type": "code",
      "source": [
        "#12 Using Multiple except Blocks\n",
        "try:\n",
        "    x = 10 / 0  # Division by zero\n",
        "except ZeroDivisionError:\n",
        "    print(\"Cannot divide by zero!\")\n",
        "except ValueError:\n",
        "    print(\"Invalid value encountered!\")\n",
        "except Exception as e:\n",
        "    print(f\"An error occurred: {e}\")\n"
      ],
      "metadata": {
        "id": "0Hmj7qiJuCsg"
      },
      "execution_count": null,
      "outputs": []
    },
    {
      "cell_type": "code",
      "source": [
        "#13 Checking if a File Exists Before Reading"
      ],
      "metadata": {
        "id": "QVrMHBPBuKgp"
      },
      "execution_count": null,
      "outputs": []
    },
    {
      "cell_type": "code",
      "source": [
        "import os\n",
        "filename=\"exxample.txt\"\n",
        "\n",
        "\n",
        "if os.path.exists(filename):\n",
        "  with open(\"example.txt\",\"r\") as file:\n",
        "    print(file.read())\n",
        "else:\n",
        "  print(\"File does not exit\")\n"
      ],
      "metadata": {
        "colab": {
          "base_uri": "https://localhost:8080/"
        },
        "id": "3wn-UKZbuTQV",
        "outputId": "98c1f6da-4054-44e4-b0ca-17359a0f818f"
      },
      "execution_count": 59,
      "outputs": [
        {
          "output_type": "stream",
          "name": "stdout",
          "text": [
            "File does not exit\n"
          ]
        }
      ]
    },
    {
      "cell_type": "code",
      "source": [
        "#14 Logging Both INFO and ERROR Messages"
      ],
      "metadata": {
        "id": "AvQE-Sa3uxQ5"
      },
      "execution_count": null,
      "outputs": []
    },
    {
      "cell_type": "code",
      "source": [
        "import logging\n",
        "logging.basicConfig(filename=\"app.log\", level=logging.INFO,\n",
        "                     format=\"%(asctime)s - %(levelname)s - %(message)s\")\n",
        "\n",
        "\n",
        "def divid(a,b):\n",
        "   try :\n",
        "\n",
        "       print(a/b)\n",
        "       logging.info(\"This division is successfully excuted\")\n",
        "       return a/b\n",
        "   except ZeroDivisionError as e:\n",
        "        logging.error(\"There is some error\")\n",
        "        print(e)\n",
        "   finally:\n",
        "        print(\"Task is completed\")\n",
        ""
      ],
      "metadata": {
        "id": "DBVEzw6Yu1Vz"
      },
      "execution_count": 83,
      "outputs": []
    },
    {
      "cell_type": "code",
      "source": [
        "divid(10,0)"
      ],
      "metadata": {
        "colab": {
          "base_uri": "https://localhost:8080/"
        },
        "id": "EMCBsQAkyAxQ",
        "outputId": "9bc51589-bb53-444c-caab-c2bd71a18ae1"
      },
      "execution_count": 86,
      "outputs": [
        {
          "output_type": "stream",
          "name": "stderr",
          "text": [
            "ERROR:root:There is some error\n"
          ]
        },
        {
          "output_type": "stream",
          "name": "stdout",
          "text": [
            "division by zero\n",
            "Task is completed\n"
          ]
        }
      ]
    },
    {
      "cell_type": "code",
      "source": [
        "#15 Writing a List of Numbers to a File"
      ],
      "metadata": {
        "id": "mSwTZan-yrGG"
      },
      "execution_count": null,
      "outputs": []
    },
    {
      "cell_type": "code",
      "source": [
        "numbers=[1,2,3,4,5]\n",
        "with open(\"numbers.txt\",\"w\") as file:\n",
        "  for number in numbers:\n",
        "    file.write(str(number) + \" \")\n",
        ""
      ],
      "metadata": {
        "id": "bRJdODigy48T"
      },
      "execution_count": 99,
      "outputs": []
    },
    {
      "cell_type": "code",
      "source": [
        "with open(\"numbers.txt\",\"r\") as file:\n",
        "  s=file.read()"
      ],
      "metadata": {
        "id": "Mn87vH3EzR10"
      },
      "execution_count": 100,
      "outputs": []
    },
    {
      "cell_type": "code",
      "source": [
        "s"
      ],
      "metadata": {
        "colab": {
          "base_uri": "https://localhost:8080/",
          "height": 35
        },
        "id": "WP2WGnnUztTe",
        "outputId": "c40818a4-76e4-4138-a171-97084a035d68"
      },
      "execution_count": 101,
      "outputs": [
        {
          "output_type": "execute_result",
          "data": {
            "text/plain": [
              "'1 2 3 4 5 '"
            ],
            "application/vnd.google.colaboratory.intrinsic+json": {
              "type": "string"
            }
          },
          "metadata": {},
          "execution_count": 101
        }
      ]
    }
  ]
}